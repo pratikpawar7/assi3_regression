{
 "cells": [
  {
   "cell_type": "code",
   "execution_count": null,
   "id": "469ca097-5ddb-4aa8-9796-9a3b127913eb",
   "metadata": {},
   "outputs": [],
   "source": [
    "'''\n",
    "Q1. What is Ridge Regression, and how does it differ from ordinary least squares regression?\n",
    "'''\n",
    "Ans : \n",
    "    Ridge regression is the type of linear regression that adds penalty in the loss function . \n",
    "    penalty is the square of the coefficient . \n",
    "    it is used to reduce the overfitting in the machine learning algorithium . "
   ]
  },
  {
   "cell_type": "code",
   "execution_count": null,
   "id": "dcbb2587-9c92-4e1a-b2e1-c9c914dad37d",
   "metadata": {},
   "outputs": [],
   "source": [
    "'''\n",
    "Q2. What are the assumptions of Ridge Regression?\n",
    "'''\n",
    "Assumptions : \n",
    "    1.The model is overfitting.\n",
    "    2.the value of the cost function is zero with out adding the penalty.\n",
    "    3.it has low bias and high varience. \n",
    "\n",
    "The assumptions of Ridge regression are:\n",
    "\n",
    "Linearity: The relationship between the predictors and the response variable is linear.\n",
    "Independence: The observations are independent of each other.\n",
    "Homoscedasticity: The variance of the errors is constant across all levels of the predictors.\n",
    "\n"
   ]
  },
  {
   "cell_type": "code",
   "execution_count": null,
   "id": "4c385698-3c1f-4d78-aadc-a0b638d09d82",
   "metadata": {},
   "outputs": [],
   "source": [
    "'''\n",
    "Q3. How do you select the value of the tuning parameter (lambda) in Ridge Regression?\n",
    "'''\n",
    "\n",
    "To select the value of the tuning parameter (lambda) in Ridge Regression, you can use:\n",
    "\n",
    "Cross-Validation: Divide the data into training and validation sets multiple times, train the model with \n",
    "                different lambda values, and choose the one that minimizes the validation error.\n",
    "            \n",
    "Grid Search: Specify a range of lambda values and evaluate the model performance for each,\n",
    "            then pick the best-performing lambda.\n",
    "            \n",
    "Regularization Path: Some algorithms provide a path of solutions for different lambdas, \n",
    "                      helping to visualize and choose the best lambda."
   ]
  },
  {
   "cell_type": "code",
   "execution_count": null,
   "id": "606eb2c5-50e6-4f2a-9726-22209b6c03ad",
   "metadata": {},
   "outputs": [],
   "source": [
    "'''\n",
    "Q4. Can Ridge Regression be used for feature selection? If yes, how?\n",
    "'''\n",
    "\n",
    "Ridge Regression is not typically used for feature selection because it doesn't shrink coefficients to zero. \n",
    "Instead, it shrinks them towards zero but keeps all predictors in the model. \n",
    "This means that while Ridge Regression can reduce the impact of less important features,\n",
    "it does not exclude them entirely from the model."
   ]
  },
  {
   "cell_type": "code",
   "execution_count": null,
   "id": "bdea0b0f-d8d6-440e-b3cb-1d0733e8aaf0",
   "metadata": {},
   "outputs": [],
   "source": [
    "'''\n",
    "Q5. How does the Ridge Regression model perform in the presence of multicollinearity?\n",
    "'''\n",
    "\n",
    "Ridge Regression performs well in the presence of multicollinearity, which is when predictors \n",
    "are highly correlated. Unlike ordinary linear regression,\n",
    "which can produce unstable and highly variable coefficients in such cases,\n",
    "Ridge Regression adds a penalty to the size of the coefficients.\n",
    "This penalty helps stabilize the coefficients, leading to more reliable and generalizable predictions. \n",
    "By shrinking the coefficients, Ridge Regression reduces the impact of multicollinearity \n",
    "and improves the model's performance."
   ]
  },
  {
   "cell_type": "code",
   "execution_count": null,
   "id": "de32a2ba-2f6d-4992-a9d2-57218a738693",
   "metadata": {},
   "outputs": [],
   "source": [
    "'''\n",
    "Q6. Can Ridge Regression handle both categorical and continuous independent variables?\n",
    "'''\n",
    "\n",
    "Yes, Ridge Regression can handle both categorical and continuous independent variables.\n",
    "However,\n",
    "categorical variables need to be converted into a numerical format, typically using one-hot encoding, \n",
    "before they can be included in the regression model.\n",
    "\n",
    "Continuous variables can be used directly."
   ]
  },
  {
   "cell_type": "code",
   "execution_count": null,
   "id": "0e479f52-0c68-4fd4-afda-b8ff0ca77a9e",
   "metadata": {},
   "outputs": [],
   "source": [
    "'''\n",
    "Q7. How do you interpret the coefficients of Ridge Regression?\n",
    "'''\n",
    "Interpreting the coefficients of Ridge Regression involves understanding that:\n",
    "\n",
    "Shrinkage: The coefficients are shrunk towards zero due to the regularization term.\n",
    "           This means they are smaller in magnitude compared to those from ordinary linear regression.\n",
    "Relative Importance: Interpreting the coefficients of Ridge Regression involves understanding that"
   ]
  },
  {
   "cell_type": "code",
   "execution_count": null,
   "id": "16e29ab9-f76a-4f53-bab2-d5bd44a9d020",
   "metadata": {},
   "outputs": [],
   "source": [
    "'''\n",
    "Q8. Can Ridge Regression be used for time-series data analysis? If yes, how?\n",
    "'''\n",
    "Ans : \n",
    "    \n",
    "Yes, Ridge Regression can be used for time-series data analysis. Here's how:\n",
    "\n",
    "Feature Engineering: Create lagged variables and other relevant features that capture \n",
    "                     the temporal structure of the data. For example, include lagged values \n",
    "                     of the time series, moving averages, and seasonal components as predictors.\n",
    "\n",
    "Stationarity: Ensure the time-series data is stationary or make it stationary through differencing,\n",
    "              detrending, or other methods. Stationary data has consistent statistical properties\n",
    "              over time, which is crucial for regression models.\n",
    "\n",
    "Training the Model: Apply Ridge Regression on the engineered features. \n",
    "                    Ridge Regression will help manage multicollinearity among predictors,\n",
    "                    which is common in time-series data with lagged variables."
   ]
  }
 ],
 "metadata": {
  "kernelspec": {
   "display_name": "Python 3 (ipykernel)",
   "language": "python",
   "name": "python3"
  },
  "language_info": {
   "codemirror_mode": {
    "name": "ipython",
    "version": 3
   },
   "file_extension": ".py",
   "mimetype": "text/x-python",
   "name": "python",
   "nbconvert_exporter": "python",
   "pygments_lexer": "ipython3",
   "version": "3.10.8"
  }
 },
 "nbformat": 4,
 "nbformat_minor": 5
}
